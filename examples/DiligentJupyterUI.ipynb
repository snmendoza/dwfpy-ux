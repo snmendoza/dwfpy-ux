{
 "cells": [
  {
   "cell_type": "code",
   "execution_count": 1,
   "metadata": {},
   "outputs": [],
   "source": [
    "%gui qt\n",
    "from DwfInterface import DigiScope"
   ]
  },
  {
   "cell_type": "code",
   "execution_count": 2,
   "metadata": {},
   "outputs": [],
   "source": [
    "# Create a DigiScope instance\n",
    "ds = DigiScope()"
   ]
  },
  {
   "cell_type": "code",
   "execution_count": 3,
   "metadata": {},
   "outputs": [],
   "source": [
    "# Configure oscilloscope parameters\n",
    "frequency = 1e6\n",
    "duration = .1\n",
    "samples = int(frequency * duration)\n",
    "params = {\n",
    "    1: {    \n",
    "        \"range\": 0.05,\n",
    "        \"offset\": 0.0,\n",
    "        \"enable\": 1,\n",
    "        \"coupling\": \"ac\",\n",
    "    },\n",
    "    2: {\n",
    "        \"range\": 5.0,\n",
    "        \"offset\": 0.0,\n",
    "        \"enable\": 1,\n",
    "        \"coupling\": \"dc\",\n",
    "    },\n",
    "    \"scope\": {\n",
    "        \"frequency\": frequency,\n",
    "        \"samples\": samples,\n",
    "    },\n",
    "    \"trigger\": {\n",
    "        \"type\": \"edge\",\n",
    "        \"channel\": 2,\n",
    "        \"level\": 2.5,\n",
    "        \"polarity\": \"+\",\n",
    "        \"position\": 0.01,\n",
    "        \"hysteresis\": 0.01,\n",
    "    },\n",
    "    \"wavegen\": {\n",
    "        \"waveform\": \"sine\",\n",
    "        \"frequency\": 10,\n",
    "        \"amplitude\": 1.5,\n",
    "        \"offset\": 0.0,\n",
    "    }\n",
    "}\n",
    "ds.configure_all(params)"
   ]
  },
  {
   "cell_type": "code",
   "execution_count": 4,
   "metadata": {},
   "outputs": [
    {
     "name": "stdout",
     "output_type": "stream",
     "text": [
      "Qt event loop integrated with Jupyter - UI should appear in a separate window\n"
     ]
    },
    {
     "data": {
      "text/plain": [
       "<DwfInterface.DigiScopeGraph.OscilloscopeUI at 0x1435639b0>"
      ]
     },
     "execution_count": 4,
     "metadata": {},
     "output_type": "execute_result"
    }
   ],
   "source": [
    "ds.jupyter_graph()"
   ]
  },
  {
   "cell_type": "code",
   "execution_count": 5,
   "metadata": {},
   "outputs": [
    {
     "name": "stdout",
     "output_type": "stream",
     "text": [
      "Beginning continuous acquisition\n"
     ]
    },
    {
     "name": "stderr",
     "output_type": "stream",
     "text": [
      "2025-04-16 15:28:24.768 python[73535:111880926] +[IMKClient subclass]: chose IMKClient_Modern\n",
      "2025-04-16 15:28:24.768 python[73535:111880926] +[IMKInputSession subclass]: chose IMKInputSession_Modern\n"
     ]
    },
    {
     "name": "stdout",
     "output_type": "stream",
     "text": [
      "Keyboard Interrupt - Continuous acquisition stopped\n"
     ]
    }
   ],
   "source": [
    "ds.acquire_continuous()"
   ]
  },
  {
   "cell_type": "code",
   "execution_count": 14,
   "metadata": {},
   "outputs": [
    {
     "name": "stdout",
     "output_type": "stream",
     "text": [
      "Beginning acquisition\n"
     ]
    }
   ],
   "source": [
    "series = ds.acquire_series(20)"
   ]
  }
 ],
 "metadata": {
  "kernelspec": {
   "display_name": "Python 3 (ipykernel)",
   "language": "python",
   "name": "python3"
  },
  "language_info": {
   "codemirror_mode": {
    "name": "ipython",
    "version": 3
   },
   "file_extension": ".py",
   "mimetype": "text/x-python",
   "name": "python",
   "nbconvert_exporter": "python",
   "pygments_lexer": "ipython3",
   "version": "3.12.0"
  }
 },
 "nbformat": 4,
 "nbformat_minor": 2
}
